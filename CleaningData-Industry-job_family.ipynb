{
 "cells": [
  {
   "cell_type": "code",
   "execution_count": 2,
   "id": "473e564d",
   "metadata": {},
   "outputs": [
    {
     "name": "stderr",
     "output_type": "stream",
     "text": [
      "c:\\users\\taraka pavan sriram\\appdata\\local\\programs\\python\\python37\\lib\\site-packages\\sklearn\\feature_extraction\\image.py:167: DeprecationWarning: `np.int` is a deprecated alias for the builtin `int`. To silence this warning, use `int` by itself. Doing this will not modify any behavior and is safe. When replacing `np.int`, you may wish to use e.g. `np.int64` or `np.int32` to specify the precision. If you wish to review your current use, check the release note link for additional information.\n",
      "Deprecated in NumPy 1.20; for more details and guidance: https://numpy.org/devdocs/release/1.20.0-notes.html#deprecations\n",
      "  dtype=np.int):\n"
     ]
    }
   ],
   "source": [
    "import sklearn\n",
    "from sklearn.datasets import load_boston\n",
    "import pandas as pd\n",
    "import matplotlib.pyplot as plt\n",
    "import seaborn as sns"
   ]
  },
  {
   "cell_type": "code",
   "execution_count": 3,
   "id": "9b5a558d",
   "metadata": {},
   "outputs": [
    {
     "data": {
      "text/html": [
       "<div>\n",
       "<style scoped>\n",
       "    .dataframe tbody tr th:only-of-type {\n",
       "        vertical-align: middle;\n",
       "    }\n",
       "\n",
       "    .dataframe tbody tr th {\n",
       "        vertical-align: top;\n",
       "    }\n",
       "\n",
       "    .dataframe thead th {\n",
       "        text-align: right;\n",
       "    }\n",
       "</style>\n",
       "<table border=\"1\" class=\"dataframe\">\n",
       "  <thead>\n",
       "    <tr style=\"text-align: right;\">\n",
       "      <th></th>\n",
       "      <th>post_date</th>\n",
       "      <th>industry</th>\n",
       "      <th>job_family</th>\n",
       "      <th>count_id_indexed</th>\n",
       "    </tr>\n",
       "  </thead>\n",
       "  <tbody>\n",
       "    <tr>\n",
       "      <th>0</th>\n",
       "      <td>2020-03-01</td>\n",
       "      <td>NaN</td>\n",
       "      <td>NaN</td>\n",
       "      <td>1.0000</td>\n",
       "    </tr>\n",
       "    <tr>\n",
       "      <th>1</th>\n",
       "      <td>2020-03-01</td>\n",
       "      <td>NaN</td>\n",
       "      <td>Customer Service</td>\n",
       "      <td>1.0000</td>\n",
       "    </tr>\n",
       "    <tr>\n",
       "      <th>2</th>\n",
       "      <td>2020-03-01</td>\n",
       "      <td>NaN</td>\n",
       "      <td>Entertainment and Recreation</td>\n",
       "      <td>1.0000</td>\n",
       "    </tr>\n",
       "    <tr>\n",
       "      <th>3</th>\n",
       "      <td>2020-03-01</td>\n",
       "      <td>NaN</td>\n",
       "      <td>Facilities/Constr</td>\n",
       "      <td>1.0000</td>\n",
       "    </tr>\n",
       "    <tr>\n",
       "      <th>4</th>\n",
       "      <td>2020-03-01</td>\n",
       "      <td>NaN</td>\n",
       "      <td>Finance/Insurance</td>\n",
       "      <td>1.0000</td>\n",
       "    </tr>\n",
       "    <tr>\n",
       "      <th>...</th>\n",
       "      <td>...</td>\n",
       "      <td>...</td>\n",
       "      <td>...</td>\n",
       "      <td>...</td>\n",
       "    </tr>\n",
       "    <tr>\n",
       "      <th>162774</th>\n",
       "      <td>2021-09-20</td>\n",
       "      <td>Wholesale</td>\n",
       "      <td>Sales</td>\n",
       "      <td>1.9490</td>\n",
       "    </tr>\n",
       "    <tr>\n",
       "      <th>162775</th>\n",
       "      <td>2021-09-20</td>\n",
       "      <td>Wholesale</td>\n",
       "      <td>Security</td>\n",
       "      <td>7.7942</td>\n",
       "    </tr>\n",
       "    <tr>\n",
       "      <th>162776</th>\n",
       "      <td>2021-09-20</td>\n",
       "      <td>Wholesale</td>\n",
       "      <td>Skilled Trades</td>\n",
       "      <td>2.5048</td>\n",
       "    </tr>\n",
       "    <tr>\n",
       "      <th>162777</th>\n",
       "      <td>2021-09-20</td>\n",
       "      <td>Wholesale</td>\n",
       "      <td>Supply Chain Staff</td>\n",
       "      <td>2.4621</td>\n",
       "    </tr>\n",
       "    <tr>\n",
       "      <th>162778</th>\n",
       "      <td>2021-09-20</td>\n",
       "      <td>Wholesale</td>\n",
       "      <td>Unassigned</td>\n",
       "      <td>0.4777</td>\n",
       "    </tr>\n",
       "  </tbody>\n",
       "</table>\n",
       "<p>162779 rows × 4 columns</p>\n",
       "</div>"
      ],
      "text/plain": [
       "         post_date   industry                    job_family  count_id_indexed\n",
       "0       2020-03-01        NaN                           NaN            1.0000\n",
       "1       2020-03-01        NaN              Customer Service            1.0000\n",
       "2       2020-03-01        NaN  Entertainment and Recreation            1.0000\n",
       "3       2020-03-01        NaN             Facilities/Constr            1.0000\n",
       "4       2020-03-01        NaN             Finance/Insurance            1.0000\n",
       "...            ...        ...                           ...               ...\n",
       "162774  2021-09-20  Wholesale                         Sales            1.9490\n",
       "162775  2021-09-20  Wholesale                      Security            7.7942\n",
       "162776  2021-09-20  Wholesale                Skilled Trades            2.5048\n",
       "162777  2021-09-20  Wholesale            Supply Chain Staff            2.4621\n",
       "162778  2021-09-20  Wholesale                    Unassigned            0.4777\n",
       "\n",
       "[162779 rows x 4 columns]"
      ]
     },
     "execution_count": 3,
     "metadata": {},
     "output_type": "execute_result"
    }
   ],
   "source": [
    "df = pd.read_csv('D:\\San Jose State University\\FA21 DATA 228 Sec 11 Big Data Tech and App\\Project\\DATA228_Projectfiles\\industry_job_family.csv', encoding='latin-1')\n",
    "df"
   ]
  },
  {
   "cell_type": "code",
   "execution_count": 4,
   "id": "d7b55c0c",
   "metadata": {},
   "outputs": [],
   "source": [
    "df.dropna(subset = [\"post_date\"], inplace=True)\n",
    "df.dropna(subset = [\"industry\"], inplace=True)\n",
    "df.dropna(subset = [\"job_family\"], inplace=True)\n",
    "df.dropna(subset = [\"count_id_indexed\"], inplace=True)\n"
   ]
  },
  {
   "cell_type": "code",
   "execution_count": 5,
   "id": "fca9779f",
   "metadata": {},
   "outputs": [],
   "source": [
    "df.rename(columns={\"post_date\":\"PostDate\"}, inplace=True)\n",
    "df.rename(columns={\"industry\":\"Industry\"}, inplace=True)\n",
    "df.rename(columns={\"industry\":\"Job_Family\"}, inplace=True)\n",
    "df.rename(columns={\"count_id_indexed\":\"CountIDIndexed\"}, inplace=True)"
   ]
  },
  {
   "cell_type": "code",
   "execution_count": 6,
   "id": "3f3d64e7",
   "metadata": {},
   "outputs": [
    {
     "data": {
      "text/html": [
       "<div>\n",
       "<style scoped>\n",
       "    .dataframe tbody tr th:only-of-type {\n",
       "        vertical-align: middle;\n",
       "    }\n",
       "\n",
       "    .dataframe tbody tr th {\n",
       "        vertical-align: top;\n",
       "    }\n",
       "\n",
       "    .dataframe thead th {\n",
       "        text-align: right;\n",
       "    }\n",
       "</style>\n",
       "<table border=\"1\" class=\"dataframe\">\n",
       "  <thead>\n",
       "    <tr style=\"text-align: right;\">\n",
       "      <th></th>\n",
       "      <th>PostDate</th>\n",
       "      <th>Industry</th>\n",
       "      <th>job_family</th>\n",
       "      <th>CountIDIndexed</th>\n",
       "    </tr>\n",
       "  </thead>\n",
       "  <tbody>\n",
       "    <tr>\n",
       "      <th>20</th>\n",
       "      <td>2020-03-01</td>\n",
       "      <td>Communication</td>\n",
       "      <td>Customer Service</td>\n",
       "      <td>1.0000</td>\n",
       "    </tr>\n",
       "    <tr>\n",
       "      <th>21</th>\n",
       "      <td>2020-03-01</td>\n",
       "      <td>Communication</td>\n",
       "      <td>Entertainment and Recreation</td>\n",
       "      <td>1.0000</td>\n",
       "    </tr>\n",
       "    <tr>\n",
       "      <th>22</th>\n",
       "      <td>2020-03-01</td>\n",
       "      <td>Communication</td>\n",
       "      <td>Facilities/Constr</td>\n",
       "      <td>1.0000</td>\n",
       "    </tr>\n",
       "    <tr>\n",
       "      <th>23</th>\n",
       "      <td>2020-03-01</td>\n",
       "      <td>Communication</td>\n",
       "      <td>Finance/Insurance</td>\n",
       "      <td>1.0000</td>\n",
       "    </tr>\n",
       "    <tr>\n",
       "      <th>24</th>\n",
       "      <td>2020-03-01</td>\n",
       "      <td>Communication</td>\n",
       "      <td>Food &amp; Beverage</td>\n",
       "      <td>1.0000</td>\n",
       "    </tr>\n",
       "    <tr>\n",
       "      <th>...</th>\n",
       "      <td>...</td>\n",
       "      <td>...</td>\n",
       "      <td>...</td>\n",
       "      <td>...</td>\n",
       "    </tr>\n",
       "    <tr>\n",
       "      <th>162774</th>\n",
       "      <td>2021-09-20</td>\n",
       "      <td>Wholesale</td>\n",
       "      <td>Sales</td>\n",
       "      <td>1.9490</td>\n",
       "    </tr>\n",
       "    <tr>\n",
       "      <th>162775</th>\n",
       "      <td>2021-09-20</td>\n",
       "      <td>Wholesale</td>\n",
       "      <td>Security</td>\n",
       "      <td>7.7942</td>\n",
       "    </tr>\n",
       "    <tr>\n",
       "      <th>162776</th>\n",
       "      <td>2021-09-20</td>\n",
       "      <td>Wholesale</td>\n",
       "      <td>Skilled Trades</td>\n",
       "      <td>2.5048</td>\n",
       "    </tr>\n",
       "    <tr>\n",
       "      <th>162777</th>\n",
       "      <td>2021-09-20</td>\n",
       "      <td>Wholesale</td>\n",
       "      <td>Supply Chain Staff</td>\n",
       "      <td>2.4621</td>\n",
       "    </tr>\n",
       "    <tr>\n",
       "      <th>162778</th>\n",
       "      <td>2021-09-20</td>\n",
       "      <td>Wholesale</td>\n",
       "      <td>Unassigned</td>\n",
       "      <td>0.4777</td>\n",
       "    </tr>\n",
       "  </tbody>\n",
       "</table>\n",
       "<p>144461 rows × 4 columns</p>\n",
       "</div>"
      ],
      "text/plain": [
       "          PostDate       Industry                    job_family  \\\n",
       "20      2020-03-01  Communication              Customer Service   \n",
       "21      2020-03-01  Communication  Entertainment and Recreation   \n",
       "22      2020-03-01  Communication             Facilities/Constr   \n",
       "23      2020-03-01  Communication             Finance/Insurance   \n",
       "24      2020-03-01  Communication               Food & Beverage   \n",
       "...            ...            ...                           ...   \n",
       "162774  2021-09-20      Wholesale                         Sales   \n",
       "162775  2021-09-20      Wholesale                      Security   \n",
       "162776  2021-09-20      Wholesale                Skilled Trades   \n",
       "162777  2021-09-20      Wholesale            Supply Chain Staff   \n",
       "162778  2021-09-20      Wholesale                    Unassigned   \n",
       "\n",
       "        CountIDIndexed  \n",
       "20              1.0000  \n",
       "21              1.0000  \n",
       "22              1.0000  \n",
       "23              1.0000  \n",
       "24              1.0000  \n",
       "...                ...  \n",
       "162774          1.9490  \n",
       "162775          7.7942  \n",
       "162776          2.5048  \n",
       "162777          2.4621  \n",
       "162778          0.4777  \n",
       "\n",
       "[144461 rows x 4 columns]"
      ]
     },
     "execution_count": 6,
     "metadata": {},
     "output_type": "execute_result"
    }
   ],
   "source": [
    "df"
   ]
  },
  {
   "cell_type": "code",
   "execution_count": 7,
   "id": "eb901770",
   "metadata": {},
   "outputs": [
    {
     "name": "stderr",
     "output_type": "stream",
     "text": [
      "c:\\users\\taraka pavan sriram\\appdata\\local\\programs\\python\\python37\\lib\\site-packages\\seaborn\\_decorators.py:43: FutureWarning: Pass the following variable as a keyword arg: x. From version 0.12, the only valid positional argument will be `data`, and passing other arguments without an explicit keyword will result in an error or misinterpretation.\n",
      "  FutureWarning\n"
     ]
    },
    {
     "data": {
      "text/plain": [
       "<AxesSubplot:xlabel='CountIDIndexed'>"
      ]
     },
     "execution_count": 7,
     "metadata": {},
     "output_type": "execute_result"
    },
    {
     "data": {
      "image/png": "[encoded data removed]",
      "text/plain": [
       "<Figure size 432x288 with 1 Axes>"
      ]
     },
     "metadata": {
      "needs_background": "light"
     },
     "output_type": "display_data"
    }
   ],
   "source": [
    "sns.boxplot(df['CountIDIndexed'])"
   ]
  },
  {
   "cell_type": "code",
   "execution_count": null,
   "id": "71cfe0fc",
   "metadata": {},
   "outputs": [],
   "source": []
  }
 ],
 "metadata": {
  "kernelspec": {
   "display_name": "Python 3 (ipykernel)",
   "language": "python",
   "name": "python3"
  },
  "language_info": {
   "codemirror_mode": {
    "name": "ipython",
    "version": 3
   },
   "file_extension": ".py",
   "mimetype": "text/x-python",
   "name": "python",
   "nbconvert_exporter": "python",
   "pygments_lexer": "ipython3",
   "version": "3.7.4"
  }
 },
 "nbformat": 4,
 "nbformat_minor": 5
}
