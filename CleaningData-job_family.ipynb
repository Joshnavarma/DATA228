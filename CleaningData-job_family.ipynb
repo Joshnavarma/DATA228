{
 "cells": [
  {
   "cell_type": "code",
   "execution_count": 3,
   "id": "473e564d",
   "metadata": {},
   "outputs": [],
   "source": [
    "import sklearn\n",
    "from sklearn.datasets import load_boston\n",
    "import pandas as pd\n",
    "import matplotlib.pyplot as plt\n",
    "import seaborn as sns"
   ]
  },
  {
   "cell_type": "code",
   "execution_count": 4,
   "id": "9b5a558d",
   "metadata": {},
   "outputs": [
    {
     "data": {
      "text/html": [
       "<div>\n",
       "<style scoped>\n",
       "    .dataframe tbody tr th:only-of-type {\n",
       "        vertical-align: middle;\n",
       "    }\n",
       "\n",
       "    .dataframe tbody tr th {\n",
       "        vertical-align: top;\n",
       "    }\n",
       "\n",
       "    .dataframe thead th {\n",
       "        text-align: right;\n",
       "    }\n",
       "</style>\n",
       "<table border=\"1\" class=\"dataframe\">\n",
       "  <thead>\n",
       "    <tr style=\"text-align: right;\">\n",
       "      <th></th>\n",
       "      <th>post_date</th>\n",
       "      <th>job_family</th>\n",
       "      <th>count_id_indexed</th>\n",
       "    </tr>\n",
       "  </thead>\n",
       "  <tbody>\n",
       "    <tr>\n",
       "      <th>0</th>\n",
       "      <td>2020-03-01</td>\n",
       "      <td>NaN</td>\n",
       "      <td>1.0000</td>\n",
       "    </tr>\n",
       "    <tr>\n",
       "      <th>1</th>\n",
       "      <td>2020-03-01</td>\n",
       "      <td>Customer Service</td>\n",
       "      <td>1.0000</td>\n",
       "    </tr>\n",
       "    <tr>\n",
       "      <th>2</th>\n",
       "      <td>2020-03-01</td>\n",
       "      <td>Entertainment and Recreation</td>\n",
       "      <td>1.0000</td>\n",
       "    </tr>\n",
       "    <tr>\n",
       "      <th>3</th>\n",
       "      <td>2020-03-01</td>\n",
       "      <td>Facilities/Constr</td>\n",
       "      <td>1.0000</td>\n",
       "    </tr>\n",
       "    <tr>\n",
       "      <th>4</th>\n",
       "      <td>2020-03-01</td>\n",
       "      <td>Finance/Insurance</td>\n",
       "      <td>1.0000</td>\n",
       "    </tr>\n",
       "    <tr>\n",
       "      <th>...</th>\n",
       "      <td>...</td>\n",
       "      <td>...</td>\n",
       "      <td>...</td>\n",
       "    </tr>\n",
       "    <tr>\n",
       "      <th>10693</th>\n",
       "      <td>2021-09-20</td>\n",
       "      <td>Sales</td>\n",
       "      <td>1.6536</td>\n",
       "    </tr>\n",
       "    <tr>\n",
       "      <th>10694</th>\n",
       "      <td>2021-09-20</td>\n",
       "      <td>Security</td>\n",
       "      <td>1.7130</td>\n",
       "    </tr>\n",
       "    <tr>\n",
       "      <th>10695</th>\n",
       "      <td>2021-09-20</td>\n",
       "      <td>Skilled Trades</td>\n",
       "      <td>2.2378</td>\n",
       "    </tr>\n",
       "    <tr>\n",
       "      <th>10696</th>\n",
       "      <td>2021-09-20</td>\n",
       "      <td>Supply Chain Staff</td>\n",
       "      <td>1.7979</td>\n",
       "    </tr>\n",
       "    <tr>\n",
       "      <th>10697</th>\n",
       "      <td>2021-09-20</td>\n",
       "      <td>Unassigned</td>\n",
       "      <td>0.4208</td>\n",
       "    </tr>\n",
       "  </tbody>\n",
       "</table>\n",
       "<p>10698 rows × 3 columns</p>\n",
       "</div>"
      ],
      "text/plain": [
       "        post_date                    job_family  count_id_indexed\n",
       "0      2020-03-01                           NaN            1.0000\n",
       "1      2020-03-01              Customer Service            1.0000\n",
       "2      2020-03-01  Entertainment and Recreation            1.0000\n",
       "3      2020-03-01             Facilities/Constr            1.0000\n",
       "4      2020-03-01             Finance/Insurance            1.0000\n",
       "...           ...                           ...               ...\n",
       "10693  2021-09-20                         Sales            1.6536\n",
       "10694  2021-09-20                      Security            1.7130\n",
       "10695  2021-09-20                Skilled Trades            2.2378\n",
       "10696  2021-09-20            Supply Chain Staff            1.7979\n",
       "10697  2021-09-20                    Unassigned            0.4208\n",
       "\n",
       "[10698 rows x 3 columns]"
      ]
     },
     "execution_count": 4,
     "metadata": {},
     "output_type": "execute_result"
    }
   ],
   "source": [
    "df = pd.read_csv('D:\\San Jose State University\\FA21 DATA 228 Sec 11 Big Data Tech and App\\Project\\DATA228_Projectfiles\\job_family.csv', encoding='latin-1')\n",
    "df"
   ]
  },
  {
   "cell_type": "code",
   "execution_count": 5,
   "id": "d7b55c0c",
   "metadata": {},
   "outputs": [],
   "source": [
    "df.dropna(subset = [\"post_date\"], inplace=True)\n",
    "df.dropna(subset = [\"job_family\"], inplace=True)\n",
    "df.dropna(subset = [\"count_id_indexed\"], inplace=True)\n"
   ]
  },
  {
   "cell_type": "code",
   "execution_count": 6,
   "id": "fca9779f",
   "metadata": {},
   "outputs": [],
   "source": [
    "df.rename(columns={\"post_date\":\"PostDate\"}, inplace=True)\n",
    "df.rename(columns={\"state\":\"job_family\"}, inplace=True)\n",
    "df.rename(columns={\"count_id_indexed\":\"CountIDIndexed\"}, inplace=True)"
   ]
  },
  {
   "cell_type": "code",
   "execution_count": 7,
   "id": "3f3d64e7",
   "metadata": {},
   "outputs": [
    {
     "data": {
      "text/html": [
       "<div>\n",
       "<style scoped>\n",
       "    .dataframe tbody tr th:only-of-type {\n",
       "        vertical-align: middle;\n",
       "    }\n",
       "\n",
       "    .dataframe tbody tr th {\n",
       "        vertical-align: top;\n",
       "    }\n",
       "\n",
       "    .dataframe thead th {\n",
       "        text-align: right;\n",
       "    }\n",
       "</style>\n",
       "<table border=\"1\" class=\"dataframe\">\n",
       "  <thead>\n",
       "    <tr style=\"text-align: right;\">\n",
       "      <th></th>\n",
       "      <th>PostDate</th>\n",
       "      <th>job_family</th>\n",
       "      <th>CountIDIndexed</th>\n",
       "    </tr>\n",
       "  </thead>\n",
       "  <tbody>\n",
       "    <tr>\n",
       "      <th>1</th>\n",
       "      <td>2020-03-01</td>\n",
       "      <td>Customer Service</td>\n",
       "      <td>1.0000</td>\n",
       "    </tr>\n",
       "    <tr>\n",
       "      <th>2</th>\n",
       "      <td>2020-03-01</td>\n",
       "      <td>Entertainment and Recreation</td>\n",
       "      <td>1.0000</td>\n",
       "    </tr>\n",
       "    <tr>\n",
       "      <th>3</th>\n",
       "      <td>2020-03-01</td>\n",
       "      <td>Facilities/Constr</td>\n",
       "      <td>1.0000</td>\n",
       "    </tr>\n",
       "    <tr>\n",
       "      <th>4</th>\n",
       "      <td>2020-03-01</td>\n",
       "      <td>Finance/Insurance</td>\n",
       "      <td>1.0000</td>\n",
       "    </tr>\n",
       "    <tr>\n",
       "      <th>5</th>\n",
       "      <td>2020-03-01</td>\n",
       "      <td>Food &amp; Beverage</td>\n",
       "      <td>1.0000</td>\n",
       "    </tr>\n",
       "    <tr>\n",
       "      <th>...</th>\n",
       "      <td>...</td>\n",
       "      <td>...</td>\n",
       "      <td>...</td>\n",
       "    </tr>\n",
       "    <tr>\n",
       "      <th>10693</th>\n",
       "      <td>2021-09-20</td>\n",
       "      <td>Sales</td>\n",
       "      <td>1.6536</td>\n",
       "    </tr>\n",
       "    <tr>\n",
       "      <th>10694</th>\n",
       "      <td>2021-09-20</td>\n",
       "      <td>Security</td>\n",
       "      <td>1.7130</td>\n",
       "    </tr>\n",
       "    <tr>\n",
       "      <th>10695</th>\n",
       "      <td>2021-09-20</td>\n",
       "      <td>Skilled Trades</td>\n",
       "      <td>2.2378</td>\n",
       "    </tr>\n",
       "    <tr>\n",
       "      <th>10696</th>\n",
       "      <td>2021-09-20</td>\n",
       "      <td>Supply Chain Staff</td>\n",
       "      <td>1.7979</td>\n",
       "    </tr>\n",
       "    <tr>\n",
       "      <th>10697</th>\n",
       "      <td>2021-09-20</td>\n",
       "      <td>Unassigned</td>\n",
       "      <td>0.4208</td>\n",
       "    </tr>\n",
       "  </tbody>\n",
       "</table>\n",
       "<p>10135 rows × 3 columns</p>\n",
       "</div>"
      ],
      "text/plain": [
       "         PostDate                    job_family  CountIDIndexed\n",
       "1      2020-03-01              Customer Service          1.0000\n",
       "2      2020-03-01  Entertainment and Recreation          1.0000\n",
       "3      2020-03-01             Facilities/Constr          1.0000\n",
       "4      2020-03-01             Finance/Insurance          1.0000\n",
       "5      2020-03-01               Food & Beverage          1.0000\n",
       "...           ...                           ...             ...\n",
       "10693  2021-09-20                         Sales          1.6536\n",
       "10694  2021-09-20                      Security          1.7130\n",
       "10695  2021-09-20                Skilled Trades          2.2378\n",
       "10696  2021-09-20            Supply Chain Staff          1.7979\n",
       "10697  2021-09-20                    Unassigned          0.4208\n",
       "\n",
       "[10135 rows x 3 columns]"
      ]
     },
     "execution_count": 7,
     "metadata": {},
     "output_type": "execute_result"
    }
   ],
   "source": [
    "df"
   ]
  },
  {
   "cell_type": "code",
   "execution_count": 8,
   "id": "eb901770",
   "metadata": {},
   "outputs": [
    {
     "name": "stderr",
     "output_type": "stream",
     "text": [
      "c:\\users\\taraka pavan sriram\\appdata\\local\\programs\\python\\python37\\lib\\site-packages\\seaborn\\_decorators.py:43: FutureWarning: Pass the following variable as a keyword arg: x. From version 0.12, the only valid positional argument will be `data`, and passing other arguments without an explicit keyword will result in an error or misinterpretation.\n",
      "  FutureWarning\n"
     ]
    },
    {
     "data": {
      "text/plain": [
       "<AxesSubplot:xlabel='CountIDIndexed'>"
      ]
     },
     "execution_count": 8,
     "metadata": {},
     "output_type": "execute_result"
    },
    {
     "data": {
      "image/png": "[encoded data removed]",
      "text/plain": [
       "<Figure size 432x288 with 1 Axes>"
      ]
     },
     "metadata": {
      "needs_background": "light"
     },
     "output_type": "display_data"
    }
   ],
   "source": [
    "sns.boxplot(df['CountIDIndexed'])"
   ]
  },
  {
   "cell_type": "code",
   "execution_count": null,
   "id": "71cfe0fc",
   "metadata": {},
   "outputs": [],
   "source": []
  }
 ],
 "metadata": {
  "kernelspec": {
   "display_name": "Python 3 (ipykernel)",
   "language": "python",
   "name": "python3"
  },
  "language_info": {
   "codemirror_mode": {
    "name": "ipython",
    "version": 3
   },
   "file_extension": ".py",
   "mimetype": "text/x-python",
   "name": "python",
   "nbconvert_exporter": "python",
   "pygments_lexer": "ipython3",
   "version": "3.7.4"
  }
 },
 "nbformat": 4,
 "nbformat_minor": 5
}
