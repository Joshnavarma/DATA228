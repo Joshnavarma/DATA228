{
 "cells": [
  {
   "cell_type": "code",
   "execution_count": 1,
   "id": "473e564d",
   "metadata": {},
   "outputs": [
    {
     "name": "stderr",
     "output_type": "stream",
     "text": [
      "c:\\users\\taraka pavan sriram\\appdata\\local\\programs\\python\\python37\\lib\\site-packages\\sklearn\\feature_extraction\\image.py:167: DeprecationWarning: `np.int` is a deprecated alias for the builtin `int`. To silence this warning, use `int` by itself. Doing this will not modify any behavior and is safe. When replacing `np.int`, you may wish to use e.g. `np.int64` or `np.int32` to specify the precision. If you wish to review your current use, check the release note link for additional information.\n",
      "Deprecated in NumPy 1.20; for more details and guidance: https://numpy.org/devdocs/release/1.20.0-notes.html#deprecations\n",
      "  dtype=np.int):\n"
     ]
    }
   ],
   "source": [
    "import sklearn\n",
    "from sklearn.datasets import load_boston\n",
    "import pandas as pd\n",
    "import matplotlib.pyplot as plt\n",
    "import seaborn as sns"
   ]
  },
  {
   "cell_type": "code",
   "execution_count": 2,
   "id": "9b5a558d",
   "metadata": {},
   "outputs": [
    {
     "data": {
      "text/html": [
       "<div>\n",
       "<style scoped>\n",
       "    .dataframe tbody tr th:only-of-type {\n",
       "        vertical-align: middle;\n",
       "    }\n",
       "\n",
       "    .dataframe tbody tr th {\n",
       "        vertical-align: top;\n",
       "    }\n",
       "\n",
       "    .dataframe thead th {\n",
       "        text-align: right;\n",
       "    }\n",
       "</style>\n",
       "<table border=\"1\" class=\"dataframe\">\n",
       "  <thead>\n",
       "    <tr style=\"text-align: right;\">\n",
       "      <th></th>\n",
       "      <th>post_date</th>\n",
       "      <th>job_family</th>\n",
       "      <th>role</th>\n",
       "      <th>count_id_indexed</th>\n",
       "    </tr>\n",
       "  </thead>\n",
       "  <tbody>\n",
       "    <tr>\n",
       "      <th>0</th>\n",
       "      <td>2020-03-01</td>\n",
       "      <td>NaN</td>\n",
       "      <td>EXCUDE</td>\n",
       "      <td>1.0000</td>\n",
       "    </tr>\n",
       "    <tr>\n",
       "      <th>1</th>\n",
       "      <td>2020-03-01</td>\n",
       "      <td>Customer Service</td>\n",
       "      <td>Call Center Manager</td>\n",
       "      <td>1.0000</td>\n",
       "    </tr>\n",
       "    <tr>\n",
       "      <th>2</th>\n",
       "      <td>2020-03-01</td>\n",
       "      <td>Customer Service</td>\n",
       "      <td>Customer Service Manager</td>\n",
       "      <td>1.0000</td>\n",
       "    </tr>\n",
       "    <tr>\n",
       "      <th>3</th>\n",
       "      <td>2020-03-01</td>\n",
       "      <td>Customer Service</td>\n",
       "      <td>Customer Service Representative</td>\n",
       "      <td>1.0000</td>\n",
       "    </tr>\n",
       "    <tr>\n",
       "      <th>4</th>\n",
       "      <td>2020-03-01</td>\n",
       "      <td>Customer Service</td>\n",
       "      <td>Customer Support Representative</td>\n",
       "      <td>1.0000</td>\n",
       "    </tr>\n",
       "    <tr>\n",
       "      <th>...</th>\n",
       "      <td>...</td>\n",
       "      <td>...</td>\n",
       "      <td>...</td>\n",
       "      <td>...</td>\n",
       "    </tr>\n",
       "    <tr>\n",
       "      <th>308884</th>\n",
       "      <td>2020-11-23</td>\n",
       "      <td>Entertainment and Recreation</td>\n",
       "      <td>Audio Specialist</td>\n",
       "      <td>0.2188</td>\n",
       "    </tr>\n",
       "    <tr>\n",
       "      <th>308885</th>\n",
       "      <td>2020-11-23</td>\n",
       "      <td>Entertainment and Recreation</td>\n",
       "      <td>Camera Operator</td>\n",
       "      <td>0.2719</td>\n",
       "    </tr>\n",
       "    <tr>\n",
       "      <th>308886</th>\n",
       "      <td>2020-11-23</td>\n",
       "      <td>Entertainment and Recreation</td>\n",
       "      <td>Camp Director</td>\n",
       "      <td>0.1806</td>\n",
       "    </tr>\n",
       "    <tr>\n",
       "      <th>308887</th>\n",
       "      <td>2020-11-23</td>\n",
       "      <td>Entertainment and Recreation</td>\n",
       "      <td>Camp Staff</td>\n",
       "      <td>0.2176</td>\n",
       "    </tr>\n",
       "    <tr>\n",
       "      <th>308888</th>\n",
       "      <td>2020-11-23</td>\n",
       "      <td>Entertainment and</td>\n",
       "      <td>NaN</td>\n",
       "      <td>NaN</td>\n",
       "    </tr>\n",
       "  </tbody>\n",
       "</table>\n",
       "<p>308889 rows × 4 columns</p>\n",
       "</div>"
      ],
      "text/plain": [
       "         post_date                    job_family  \\\n",
       "0       2020-03-01                           NaN   \n",
       "1       2020-03-01              Customer Service   \n",
       "2       2020-03-01              Customer Service   \n",
       "3       2020-03-01              Customer Service   \n",
       "4       2020-03-01              Customer Service   \n",
       "...            ...                           ...   \n",
       "308884  2020-11-23  Entertainment and Recreation   \n",
       "308885  2020-11-23  Entertainment and Recreation   \n",
       "308886  2020-11-23  Entertainment and Recreation   \n",
       "308887  2020-11-23  Entertainment and Recreation   \n",
       "308888  2020-11-23            Entertainment and    \n",
       "\n",
       "                                   role count_id_indexed  \n",
       "0                                EXCUDE           1.0000  \n",
       "1                   Call Center Manager           1.0000  \n",
       "2              Customer Service Manager           1.0000  \n",
       "3       Customer Service Representative           1.0000  \n",
       "4       Customer Support Representative           1.0000  \n",
       "...                                 ...              ...  \n",
       "308884                 Audio Specialist           0.2188  \n",
       "308885                  Camera Operator           0.2719  \n",
       "308886                    Camp Director           0.1806  \n",
       "308887                       Camp Staff           0.2176  \n",
       "308888                              NaN              NaN  \n",
       "\n",
       "[308889 rows x 4 columns]"
      ]
     },
     "execution_count": 2,
     "metadata": {},
     "output_type": "execute_result"
    }
   ],
   "source": [
    "df = pd.read_csv('D:\\San Jose State University\\FA21 DATA 228 Sec 11 Big Data Tech and App\\Project\\DATA228_Projectfiles\\job_family_role.csv', encoding='latin-1')\n",
    "df"
   ]
  },
  {
   "cell_type": "code",
   "execution_count": 3,
   "id": "d7b55c0c",
   "metadata": {},
   "outputs": [],
   "source": [
    "df.dropna(subset = [\"post_date\"], inplace=True)\n",
    "df.dropna(subset = [\"job_family\"], inplace=True)\n",
    "df.dropna(subset = [\"role\"], inplace=True)\n",
    "df.dropna(subset = [\"count_id_indexed\"], inplace=True)\n"
   ]
  },
  {
   "cell_type": "code",
   "execution_count": 4,
   "id": "fca9779f",
   "metadata": {},
   "outputs": [],
   "source": [
    "df.rename(columns={\"post_date\":\"PostDate\"}, inplace=True)\n",
    "df.rename(columns={\"state\":\"State\"}, inplace=True)\n",
    "df.rename(columns={\"count_id_indexed\":\"CountIDIndexed\"}, inplace=True)"
   ]
  },
  {
   "cell_type": "code",
   "execution_count": 7,
   "id": "3f3d64e7",
   "metadata": {},
   "outputs": [
    {
     "name": "stdout",
     "output_type": "stream",
     "text": [
      "     PostDate        job_family                             role  \\\n",
      "1  2020-03-01  Customer Service              Call Center Manager   \n",
      "2  2020-03-01  Customer Service         Customer Service Manager   \n",
      "3  2020-03-01  Customer Service  Customer Service Representative   \n",
      "4  2020-03-01  Customer Service  Customer Support Representative   \n",
      "5  2020-03-01  Customer Service             Relationship Manager   \n",
      "\n",
      "  CountIDIndexed  \n",
      "1         1.0000  \n",
      "2         1.0000  \n",
      "3         1.0000  \n",
      "4         1.0000  \n",
      "5         1.0000  \n"
     ]
    }
   ],
   "source": [
    "print(df.head())"
   ]
  },
  {
   "cell_type": "code",
   "execution_count": null,
   "id": "71cfe0fc",
   "metadata": {},
   "outputs": [],
   "source": []
  }
 ],
 "metadata": {
  "kernelspec": {
   "display_name": "Python 3 (ipykernel)",
   "language": "python",
   "name": "python3"
  },
  "language_info": {
   "codemirror_mode": {
    "name": "ipython",
    "version": 3
   },
   "file_extension": ".py",
   "mimetype": "text/x-python",
   "name": "python",
   "nbconvert_exporter": "python",
   "pygments_lexer": "ipython3",
   "version": "3.7.4"
  }
 },
 "nbformat": 4,
 "nbformat_minor": 5
}
